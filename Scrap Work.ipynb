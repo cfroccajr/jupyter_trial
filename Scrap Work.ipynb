{
 "cells": [
  {
   "cell_type": "code",
   "execution_count": 1,
   "id": "0d97f6f4",
   "metadata": {},
   "outputs": [],
   "source": [
    "import sympy as sp\n",
    "x,y,r,t=sp.symbols('x,y,r,t')\n",
    "import numpy as np"
   ]
  },
  {
   "cell_type": "code",
   "execution_count": 2,
   "id": "a0b873cc",
   "metadata": {},
   "outputs": [
    {
     "data": {
      "text/plain": [
       "361"
      ]
     },
     "execution_count": 2,
     "metadata": {},
     "output_type": "execute_result"
    }
   ],
   "source": [
    "19**2"
   ]
  },
  {
   "cell_type": "code",
   "execution_count": 3,
   "id": "2f7f5168",
   "metadata": {},
   "outputs": [
    {
     "data": {
      "text/plain": [
       "26"
      ]
     },
     "execution_count": 3,
     "metadata": {},
     "output_type": "execute_result"
    }
   ],
   "source": [
    "25^3"
   ]
  },
  {
   "cell_type": "code",
   "execution_count": 4,
   "id": "195b234f",
   "metadata": {},
   "outputs": [
    {
     "data": {
      "text/plain": [
       "15625"
      ]
     },
     "execution_count": 4,
     "metadata": {},
     "output_type": "execute_result"
    }
   ],
   "source": [
    "25**3"
   ]
  },
  {
   "cell_type": "code",
   "execution_count": 5,
   "id": "c48c2f48",
   "metadata": {},
   "outputs": [
    {
     "data": {
      "text/plain": [
       "81.0"
      ]
     },
     "execution_count": 5,
     "metadata": {},
     "output_type": "execute_result"
    }
   ],
   "source": [
    "2025/25"
   ]
  },
  {
   "cell_type": "code",
   "execution_count": 6,
   "id": "0bb64f32",
   "metadata": {},
   "outputs": [
    {
     "data": {
      "text/plain": [
       "9.0"
      ]
     },
     "execution_count": 6,
     "metadata": {},
     "output_type": "execute_result"
    }
   ],
   "source": [
    "225/25"
   ]
  },
  {
   "cell_type": "code",
   "execution_count": 7,
   "id": "d5a2ed1e",
   "metadata": {},
   "outputs": [
    {
     "data": {
      "text/plain": [
       "0.47368421052631576"
      ]
     },
     "execution_count": 7,
     "metadata": {},
     "output_type": "execute_result"
    }
   ],
   "source": [
    "9/19.0"
   ]
  },
  {
   "cell_type": "code",
   "execution_count": 8,
   "id": "e242fc08",
   "metadata": {},
   "outputs": [
    {
     "data": {
      "text/plain": [
       "0.28240570093692147"
      ]
     },
     "execution_count": 8,
     "metadata": {},
     "output_type": "execute_result"
    }
   ],
   "source": [
    "25*(9/19)**6"
   ]
  },
  {
   "cell_type": "code",
   "execution_count": 9,
   "id": "8b02317a",
   "metadata": {},
   "outputs": [
    {
     "name": "stdout",
     "output_type": "stream",
     "text": [
      "25.0\n",
      "11.842105263157894\n",
      "5.609418282548476\n",
      "2.6570928706808568\n",
      "1.2586229387435637\n",
      "0.5961898130890564\n",
      "0.28240570093692147\n",
      "0.13377112149643647\n",
      "0.06336526807725937\n",
      "0.030015126983964968\n",
      "0.014217691729246563\n"
     ]
    }
   ],
   "source": [
    "for i in range(11):print(25*(9/19)**i)"
   ]
  },
  {
   "cell_type": "code",
   "execution_count": 10,
   "id": "9247c142",
   "metadata": {},
   "outputs": [
    {
     "data": {
      "text/plain": [
       "'0.0142176917292466'"
      ]
     },
     "execution_count": 10,
     "metadata": {},
     "output_type": "execute_result"
    }
   ],
   "source": [
    "sp.latex(25*(9/19)**10)"
   ]
  },
  {
   "cell_type": "code",
   "execution_count": 11,
   "id": "f3fe83eb",
   "metadata": {},
   "outputs": [
    {
     "data": {
      "text/latex": [
       "$\\displaystyle y$"
      ],
      "text/plain": [
       "y"
      ]
     },
     "execution_count": 11,
     "metadata": {},
     "output_type": "execute_result"
    }
   ],
   "source": [
    "sp.limit(x**7+y,x,0)"
   ]
  },
  {
   "cell_type": "code",
   "execution_count": 12,
   "id": "72eb3751",
   "metadata": {},
   "outputs": [
    {
     "data": {
      "text/latex": [
       "$\\displaystyle \\left[\\begin{matrix}y \\cos{\\left(x \\right)}\\\\y \\sin{\\left(x \\right)}\\end{matrix}\\right]$"
      ],
      "text/plain": [
       "Matrix([\n",
       "[y*cos(x)],\n",
       "[y*sin(x)]])"
      ]
     },
     "execution_count": 12,
     "metadata": {},
     "output_type": "execute_result"
    }
   ],
   "source": [
    "X=sp.Matrix([y*sp.cos(x),y*sp.sin(x)]);X"
   ]
  },
  {
   "cell_type": "code",
   "execution_count": 13,
   "id": "d3d4d66b",
   "metadata": {},
   "outputs": [
    {
     "data": {
      "text/latex": [
       "$\\displaystyle \\left[\\begin{matrix}- y \\sin{\\left(x \\right)} & \\cos{\\left(x \\right)}\\\\y \\cos{\\left(x \\right)} & \\sin{\\left(x \\right)}\\end{matrix}\\right]$"
      ],
      "text/plain": [
       "Matrix([\n",
       "[-y*sin(x), cos(x)],\n",
       "[ y*cos(x), sin(x)]])"
      ]
     },
     "execution_count": 13,
     "metadata": {},
     "output_type": "execute_result"
    }
   ],
   "source": [
    "jX=X.jacobian([x,y]);jX"
   ]
  },
  {
   "cell_type": "code",
   "execution_count": 14,
   "id": "fdeb583b",
   "metadata": {},
   "outputs": [
    {
     "data": {
      "text/latex": [
       "$\\displaystyle \\left[\\begin{matrix}- y \\sin{\\left(x \\right)}\\\\y \\cos{\\left(x \\right)}\\end{matrix}\\right]$"
      ],
      "text/plain": [
       "Matrix([\n",
       "[-y*sin(x)],\n",
       "[ y*cos(x)]])"
      ]
     },
     "execution_count": 14,
     "metadata": {},
     "output_type": "execute_result"
    }
   ],
   "source": [
    "jX[:,0]"
   ]
  },
  {
   "cell_type": "code",
   "execution_count": 15,
   "id": "c8b4d310",
   "metadata": {},
   "outputs": [
    {
     "data": {
      "text/latex": [
       "$\\displaystyle \\left[\\begin{matrix}x \\sin{\\left(y \\right)}\\end{matrix}\\right]$"
      ],
      "text/plain": [
       "Matrix([[x*sin(y)]])"
      ]
     },
     "execution_count": 15,
     "metadata": {},
     "output_type": "execute_result"
    }
   ],
   "source": [
    "Y=sp.Matrix([x*sp.sin(y)]);Y"
   ]
  },
  {
   "cell_type": "code",
   "execution_count": 16,
   "id": "fdc0b1cc",
   "metadata": {},
   "outputs": [
    {
     "data": {
      "text/latex": [
       "$\\displaystyle \\left[\\begin{matrix}\\sin{\\left(y \\right)} & x \\cos{\\left(y \\right)}\\end{matrix}\\right]$"
      ],
      "text/plain": [
       "Matrix([[sin(y), x*cos(y)]])"
      ]
     },
     "execution_count": 16,
     "metadata": {},
     "output_type": "execute_result"
    }
   ],
   "source": [
    "gY=Y.jacobian([x,y]);gY"
   ]
  },
  {
   "cell_type": "code",
   "execution_count": 17,
   "id": "211125ed",
   "metadata": {},
   "outputs": [
    {
     "data": {
      "text/latex": [
       "$\\displaystyle \\left[\\begin{matrix}0 & \\cos{\\left(y \\right)}\\\\\\cos{\\left(y \\right)} & - x \\sin{\\left(y \\right)}\\end{matrix}\\right]$"
      ],
      "text/plain": [
       "Matrix([\n",
       "[     0,    cos(y)],\n",
       "[cos(y), -x*sin(y)]])"
      ]
     },
     "execution_count": 17,
     "metadata": {},
     "output_type": "execute_result"
    }
   ],
   "source": [
    "gY.jacobian([x,y])"
   ]
  },
  {
   "cell_type": "code",
   "execution_count": 18,
   "id": "5a0a19ee",
   "metadata": {},
   "outputs": [],
   "source": [
    "f=x*sp.sin(y)"
   ]
  },
  {
   "cell_type": "code",
   "execution_count": 19,
   "id": "3e48b238",
   "metadata": {},
   "outputs": [
    {
     "data": {
      "text/latex": [
       "$\\displaystyle x \\sin{\\left(y \\right)}$"
      ],
      "text/plain": [
       "x*sin(y)"
      ]
     },
     "execution_count": 19,
     "metadata": {},
     "output_type": "execute_result"
    }
   ],
   "source": [
    "f"
   ]
  },
  {
   "cell_type": "code",
   "execution_count": 20,
   "id": "ae9e46b6",
   "metadata": {},
   "outputs": [
    {
     "data": {
      "text/latex": [
       "$\\displaystyle \\left[\\begin{matrix}0 & \\cos{\\left(y \\right)}\\\\\\cos{\\left(y \\right)} & - x \\sin{\\left(y \\right)}\\end{matrix}\\right]$"
      ],
      "text/plain": [
       "Matrix([\n",
       "[     0,    cos(y)],\n",
       "[cos(y), -x*sin(y)]])"
      ]
     },
     "execution_count": 20,
     "metadata": {},
     "output_type": "execute_result"
    }
   ],
   "source": [
    "fH=sp.hessian(f,(x,y));fH"
   ]
  },
  {
   "cell_type": "code",
   "execution_count": 21,
   "id": "479347f7",
   "metadata": {},
   "outputs": [
    {
     "data": {
      "text/latex": [
       "$\\displaystyle \\left[\\begin{matrix}0 & -1\\\\-1 & 0\\end{matrix}\\right]$"
      ],
      "text/plain": [
       "Matrix([\n",
       "[ 0, -1],\n",
       "[-1,  0]])"
      ]
     },
     "execution_count": 21,
     "metadata": {},
     "output_type": "execute_result"
    }
   ],
   "source": [
    "fH.subs({x:2,y:sp.pi})"
   ]
  },
  {
   "cell_type": "code",
   "execution_count": 22,
   "id": "d9d99804",
   "metadata": {},
   "outputs": [
    {
     "data": {
      "text/latex": [
       "$\\displaystyle \\left[\\begin{matrix}\\cos^{2}{\\left(y \\right)} & - x \\sin{\\left(y \\right)} \\cos{\\left(y \\right)}\\\\- x \\sin{\\left(y \\right)} \\cos{\\left(y \\right)} & x^{2} \\sin^{2}{\\left(y \\right)} + \\cos^{2}{\\left(y \\right)}\\end{matrix}\\right]$"
      ],
      "text/plain": [
       "Matrix([\n",
       "[       cos(y)**2,           -x*sin(y)*cos(y)],\n",
       "[-x*sin(y)*cos(y), x**2*sin(y)**2 + cos(y)**2]])"
      ]
     },
     "execution_count": 22,
     "metadata": {},
     "output_type": "execute_result"
    }
   ],
   "source": [
    "fH@fH"
   ]
  },
  {
   "cell_type": "code",
   "execution_count": 23,
   "id": "b49f5e4a",
   "metadata": {},
   "outputs": [],
   "source": [
    "f=x**2+2*x*y+y**2"
   ]
  },
  {
   "cell_type": "code",
   "execution_count": 24,
   "id": "bfb7446d",
   "metadata": {},
   "outputs": [],
   "source": [
    "flist=[f]"
   ]
  },
  {
   "cell_type": "code",
   "execution_count": 25,
   "id": "11186891",
   "metadata": {},
   "outputs": [
    {
     "data": {
      "text/latex": [
       "$\\displaystyle \\left[\\begin{matrix}2 & 2\\\\2 & 2\\end{matrix}\\right]$"
      ],
      "text/plain": [
       "Matrix([\n",
       "[2, 2],\n",
       "[2, 2]])"
      ]
     },
     "execution_count": 25,
     "metadata": {},
     "output_type": "execute_result"
    }
   ],
   "source": [
    "fHess=sp.hessian(f,(x,y));fHess"
   ]
  },
  {
   "cell_type": "code",
   "execution_count": 26,
   "id": "f2b7d411",
   "metadata": {},
   "outputs": [],
   "source": [
    "varVector=sp.Matrix([x,y])"
   ]
  },
  {
   "cell_type": "code",
   "execution_count": 27,
   "id": "59185cb0",
   "metadata": {},
   "outputs": [
    {
     "data": {
      "text/latex": [
       "$\\displaystyle 2 x^{2} + 4 x y + 2 y^{2}$"
      ],
      "text/plain": [
       "2*x**2 + 4*x*y + 2*y**2"
      ]
     },
     "execution_count": 27,
     "metadata": {},
     "output_type": "execute_result"
    }
   ],
   "source": [
    "sp.expand((varVector.transpose()@fHess.subs({x:0,y:0})@varVector)[0])"
   ]
  },
  {
   "cell_type": "code",
   "execution_count": null,
   "id": "935e08ce",
   "metadata": {},
   "outputs": [],
   "source": []
  },
  {
   "cell_type": "code",
   "execution_count": 28,
   "id": "18f05f95",
   "metadata": {},
   "outputs": [
    {
     "data": {
      "text/latex": [
       "$\\displaystyle \\left[\\begin{matrix}\\cos{\\left(t \\right)} & - r \\sin{\\left(t \\right)}\\\\\\sin{\\left(t \\right)} & r \\cos{\\left(t \\right)}\\end{matrix}\\right]$"
      ],
      "text/plain": [
       "Matrix([\n",
       "[cos(t), -r*sin(t)],\n",
       "[sin(t),  r*cos(t)]])"
      ]
     },
     "execution_count": 28,
     "metadata": {},
     "output_type": "execute_result"
    }
   ],
   "source": [
    "sp.Matrix([r*sp.cos(t),r*sp.sin(t)]).jacobian([r,t])"
   ]
  },
  {
   "cell_type": "code",
   "execution_count": null,
   "id": "8bf655bd",
   "metadata": {},
   "outputs": [],
   "source": []
  },
  {
   "cell_type": "code",
   "execution_count": 29,
   "id": "68cb1bc1",
   "metadata": {},
   "outputs": [
    {
     "data": {
      "text/latex": [
       "$\\displaystyle \\iint \\left(x^{2} + 2 x y + y^{2}\\right)\\, dx\\, dy$"
      ],
      "text/plain": [
       "Integral(x**2 + 2*x*y + y**2, x, y)"
      ]
     },
     "execution_count": 29,
     "metadata": {},
     "output_type": "execute_result"
    }
   ],
   "source": [
    "dInt = sp.Integral(f,x,y); dInt"
   ]
  },
  {
   "cell_type": "code",
   "execution_count": 30,
   "id": "bfad3399",
   "metadata": {},
   "outputs": [
    {
     "data": {
      "text/latex": [
       "$\\displaystyle \\frac{x^{3} y}{3} + \\frac{x^{2} y^{2}}{2} + \\frac{x y^{3}}{3}$"
      ],
      "text/plain": [
       "x**3*y/3 + x**2*y**2/2 + x*y**3/3"
      ]
     },
     "execution_count": 30,
     "metadata": {},
     "output_type": "execute_result"
    }
   ],
   "source": [
    "dInt.doit()"
   ]
  },
  {
   "cell_type": "code",
   "execution_count": 31,
   "id": "c7146a69",
   "metadata": {},
   "outputs": [
    {
     "data": {
      "text/latex": [
       "$\\displaystyle \\frac{x^{3} y}{3} + \\frac{x^{2} y^{2}}{2} + \\frac{x y^{3}}{3}$"
      ],
      "text/plain": [
       "x**3*y/3 + x**2*y**2/2 + x*y**3/3"
      ]
     },
     "execution_count": 31,
     "metadata": {},
     "output_type": "execute_result"
    }
   ],
   "source": [
    "sp.Integral(f,x,y);sp.Integral(f,x,y).doit()"
   ]
  },
  {
   "cell_type": "code",
   "execution_count": 32,
   "id": "9aab4b6d",
   "metadata": {},
   "outputs": [
    {
     "data": {
      "text/latex": [
       "$\\displaystyle \\frac{x^{3} y}{3} + \\frac{x^{2} y^{2}}{2} + \\frac{x y^{3}}{3}$"
      ],
      "text/plain": [
       "x**3*y/3 + x**2*y**2/2 + x*y**3/3"
      ]
     },
     "execution_count": 32,
     "metadata": {},
     "output_type": "execute_result"
    }
   ],
   "source": [
    "sp.integrate(f,x,y)"
   ]
  },
  {
   "cell_type": "code",
   "execution_count": 33,
   "id": "b6d6bec4",
   "metadata": {},
   "outputs": [
    {
     "name": "stdout",
     "output_type": "stream",
     "text": [
      "\\int\\limits_{0}^{\\pi}\\int\\limits_{0}^{2} \\left(x^{2} + 2 x y + y^{2}\\right)\\, dx\\, dy\n"
     ]
    }
   ],
   "source": [
    "print(sp.latex(sp.Integral(f,(x,0,2),(y,0,sp.pi))))"
   ]
  },
  {
   "cell_type": "code",
   "execution_count": 34,
   "id": "185ab66c",
   "metadata": {},
   "outputs": [],
   "source": [
    "plot1=sp.plot(x*(x-1)*(x+2)**2,(x,-3,3),ylim=(-2,10),legend=True,show=False,line_color=\"green\")"
   ]
  },
  {
   "cell_type": "code",
   "execution_count": 35,
   "id": "ff435494",
   "metadata": {},
   "outputs": [],
   "source": [
    "plot2=sp.plot(x,(x,-3,3),ylim=(-3,3),show=False)"
   ]
  },
  {
   "cell_type": "code",
   "execution_count": 36,
   "id": "8ef3cda5",
   "metadata": {},
   "outputs": [],
   "source": [
    "plot1.extend(plot2)"
   ]
  },
  {
   "cell_type": "code",
   "execution_count": 37,
   "id": "65702ba3",
   "metadata": {},
   "outputs": [
    {
     "data": {
      "image/png": "[encoded data removed]",
      "text/plain": [
       "<Figure size 640x480 with 1 Axes>"
      ]
     },
     "metadata": {},
     "output_type": "display_data"
    }
   ],
   "source": [
    "plot1.show()"
   ]
  },
  {
   "cell_type": "code",
   "execution_count": null,
   "id": "ca88257f",
   "metadata": {},
   "outputs": [],
   "source": []
  }
 ],
 "metadata": {
  "kernelspec": {
   "display_name": "Python 3 (ipykernel)",
   "language": "python",
   "name": "python3"
  },
  "language_info": {
   "codemirror_mode": {
    "name": "ipython",
    "version": 3
   },
   "file_extension": ".py",
   "mimetype": "text/x-python",
   "name": "python",
   "nbconvert_exporter": "python",
   "pygments_lexer": "ipython3",
   "version": "3.10.13"
  }
 },
 "nbformat": 4,
 "nbformat_minor": 5
}
