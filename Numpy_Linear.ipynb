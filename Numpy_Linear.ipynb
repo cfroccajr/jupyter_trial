{
 "cells": [
  {
   "cell_type": "code",
   "execution_count": 1,
   "id": "a6ba48a6",
   "metadata": {},
   "outputs": [],
   "source": [
    "import numpy as np\n",
    "from numpy.random import default_rng\n",
    "from numpy import linalg as LA\n",
    "# https://numpy.org/doc/stable/user/basics.creation.html\n",
    "# https://numpy.org/doc/stable/reference/routines.linalg.html\n",
    "import sympy as sp \n",
    "# https://docs.sympy.org/latest/tutorials/intro-tutorial/matrices.html\n",
    "from scipy import linalg as sLA\n",
    "# https://docs.scipy.org/doc/scipy/reference/generated/scipy.linalg.eig.html#scipy.linalg.eig\n",
    "x,y,r,t=sp.symbols('x,y,r,t')"
   ]
  },
  {
   "cell_type": "markdown",
   "id": "443a0116",
   "metadata": {},
   "source": [
    "# Creating Arrays"
   ]
  },
  {
   "cell_type": "markdown",
   "id": "d6e89f93",
   "metadata": {},
   "source": [
    "## 1d arrays"
   ]
  },
  {
   "cell_type": "code",
   "execution_count": 2,
   "id": "31087b88",
   "metadata": {},
   "outputs": [
    {
     "data": {
      "text/plain": [
       "array([1, 2, 3, 4])"
      ]
     },
     "execution_count": 2,
     "metadata": {},
     "output_type": "execute_result"
    }
   ],
   "source": [
    "np.array([1,2,3,4]) # Manual 1d array"
   ]
  },
  {
   "cell_type": "code",
   "execution_count": 3,
   "id": "d858b340",
   "metadata": {},
   "outputs": [
    {
     "data": {
      "text/plain": [
       "array([1, 2, 3, 4])"
      ]
     },
     "execution_count": 3,
     "metadata": {},
     "output_type": "execute_result"
    }
   ],
   "source": [
    "np.arange(1,5) # 1d array with consecutive terms"
   ]
  },
  {
   "cell_type": "code",
   "execution_count": 4,
   "id": "17675c7b",
   "metadata": {},
   "outputs": [
    {
     "data": {
      "text/plain": [
       "array([ 7, 17, 27, 37])"
      ]
     },
     "execution_count": 4,
     "metadata": {},
     "output_type": "execute_result"
    }
   ],
   "source": [
    "np.arange(7,45,10) # From 7 upto, but not exceeding, 45 by 10s"
   ]
  },
  {
   "cell_type": "code",
   "execution_count": 5,
   "id": "cebfde0c",
   "metadata": {},
   "outputs": [
    {
     "data": {
      "text/plain": [
       "array([ 7., 10., 13., 16., 19., 22., 25., 28., 31., 34., 37.])"
      ]
     },
     "execution_count": 5,
     "metadata": {},
     "output_type": "execute_result"
    }
   ],
   "source": [
    "np.linspace(7, 37, 11) # From 7 to 45 with 11 evenly spaced entries"
   ]
  },
  {
   "cell_type": "markdown",
   "id": "ba0a609f",
   "metadata": {},
   "source": [
    "## 2d arrays"
   ]
  },
  {
   "cell_type": "code",
   "execution_count": 6,
   "id": "f44b365a",
   "metadata": {},
   "outputs": [
    {
     "data": {
      "text/plain": [
       "array([[1, 2, 3, 4],\n",
       "       [5, 6, 7, 8]])"
      ]
     },
     "execution_count": 6,
     "metadata": {},
     "output_type": "execute_result"
    }
   ],
   "source": [
    "np.array([\n",
    "    [1,2,3,4],\n",
    "    [5,6,7,8]\n",
    "]) # Manual 2d array"
   ]
  },
  {
   "cell_type": "code",
   "execution_count": 7,
   "id": "d0612fb7",
   "metadata": {},
   "outputs": [
    {
     "data": {
      "text/plain": [
       "array([[1, 0, 0],\n",
       "       [0, 2, 0],\n",
       "       [0, 0, 3]])"
      ]
     },
     "execution_count": 7,
     "metadata": {},
     "output_type": "execute_result"
    }
   ],
   "source": [
    "np.diag([1, 2, 3]) # 3x3 with diagonal entries"
   ]
  },
  {
   "cell_type": "code",
   "execution_count": 8,
   "id": "492922fc",
   "metadata": {},
   "outputs": [
    {
     "data": {
      "text/plain": [
       "array([[1, 0, 0],\n",
       "       [0, 1, 0],\n",
       "       [0, 0, 1]])"
      ]
     },
     "execution_count": 8,
     "metadata": {},
     "output_type": "execute_result"
    }
   ],
   "source": [
    "np.eye(3,dtype=int) # 3x3 \"identity\" array with integer entries"
   ]
  },
  {
   "cell_type": "code",
   "execution_count": 9,
   "id": "6ed82956",
   "metadata": {},
   "outputs": [
    {
     "data": {
      "text/plain": [
       "array([[1, 0, 0, 0, 0],\n",
       "       [0, 1, 0, 0, 0],\n",
       "       [0, 0, 1, 0, 0]])"
      ]
     },
     "execution_count": 9,
     "metadata": {},
     "output_type": "execute_result"
    }
   ],
   "source": [
    "np.eye(3,5,dtype=int) # 3x5 \"identity\" array with integer entries"
   ]
  },
  {
   "cell_type": "code",
   "execution_count": 10,
   "id": "19b8e29f",
   "metadata": {},
   "outputs": [
    {
     "data": {
      "text/plain": [
       "array([[1, 0, 0],\n",
       "       [0, 1, 0],\n",
       "       [0, 0, 1]])"
      ]
     },
     "execution_count": 10,
     "metadata": {},
     "output_type": "execute_result"
    }
   ],
   "source": [
    "np.eye(3,3,dtype=int)"
   ]
  },
  {
   "cell_type": "code",
   "execution_count": 11,
   "id": "f4f9faf6",
   "metadata": {},
   "outputs": [
    {
     "data": {
      "text/plain": [
       "array([[0., 0., 0.],\n",
       "       [0., 0., 0.]])"
      ]
     },
     "execution_count": 11,
     "metadata": {},
     "output_type": "execute_result"
    }
   ],
   "source": [
    "np.zeros((2,3)) # 2x3 zero matrix"
   ]
  },
  {
   "cell_type": "code",
   "execution_count": 12,
   "id": "bd635720",
   "metadata": {},
   "outputs": [
    {
     "data": {
      "text/plain": [
       "array([[1., 1.],\n",
       "       [1., 1.],\n",
       "       [1., 1.]])"
      ]
     },
     "execution_count": 12,
     "metadata": {},
     "output_type": "execute_result"
    }
   ],
   "source": [
    "np.ones((3,2)) # 3x4 ones matrix"
   ]
  },
  {
   "cell_type": "code",
   "execution_count": 13,
   "id": "22511730",
   "metadata": {},
   "outputs": [
    {
     "data": {
      "text/plain": [
       "array([[0.77395605, 0.43887844, 0.85859792],\n",
       "       [0.69736803, 0.09417735, 0.97562235],\n",
       "       [0.7611397 , 0.78606431, 0.12811363]])"
      ]
     },
     "execution_count": 13,
     "metadata": {},
     "output_type": "execute_result"
    }
   ],
   "source": [
    "default_rng(42).random((3,3)) # A random array, 42 is the seed for the random number generator"
   ]
  },
  {
   "cell_type": "markdown",
   "id": "dc99066e",
   "metadata": {},
   "source": [
    "# Manipulating Arrays"
   ]
  },
  {
   "cell_type": "code",
   "execution_count": 14,
   "id": "ea49af6c",
   "metadata": {},
   "outputs": [],
   "source": [
    "I=np.eye(3)"
   ]
  },
  {
   "cell_type": "code",
   "execution_count": 15,
   "id": "08e3afed",
   "metadata": {},
   "outputs": [],
   "source": [
    "A=np.array([\n",
    "    [2,0,1],\n",
    "    [0,1,2],\n",
    "    [0,0,3]\n",
    "])"
   ]
  },
  {
   "cell_type": "code",
   "execution_count": 16,
   "id": "f75f36ef",
   "metadata": {},
   "outputs": [],
   "source": [
    "B=np.zeros((2,3))"
   ]
  },
  {
   "cell_type": "code",
   "execution_count": 17,
   "id": "97945331",
   "metadata": {},
   "outputs": [],
   "source": [
    "C=np.ones((2,3))"
   ]
  },
  {
   "cell_type": "code",
   "execution_count": 18,
   "id": "ed0d4699",
   "metadata": {},
   "outputs": [
    {
     "data": {
      "text/plain": [
       "array([[2., 0., 1., 1., 0., 0.],\n",
       "       [0., 1., 2., 0., 1., 0.],\n",
       "       [0., 0., 3., 0., 0., 1.],\n",
       "       [0., 0., 0., 1., 1., 1.],\n",
       "       [0., 0., 0., 1., 1., 1.]])"
      ]
     },
     "execution_count": 18,
     "metadata": {},
     "output_type": "execute_result"
    }
   ],
   "source": [
    "np.block([\n",
    "    [A,I],\n",
    "    [B,C]\n",
    "]) # Array defined in blocks"
   ]
  },
  {
   "cell_type": "code",
   "execution_count": 20,
   "id": "59ab6eff",
   "metadata": {},
   "outputs": [
    {
     "data": {
      "text/plain": [
       "array([[2., 0., 1.],\n",
       "       [0., 1., 2.],\n",
       "       [0., 0., 3.],\n",
       "       [0., 0., 0.],\n",
       "       [0., 0., 0.]])"
      ]
     },
     "execution_count": 20,
     "metadata": {},
     "output_type": "execute_result"
    }
   ],
   "source": [
    "np.concatenate((A,B),axis=0)"
   ]
  },
  {
   "cell_type": "code",
   "execution_count": null,
   "id": "4b89373d",
   "metadata": {},
   "outputs": [
    {
     "data": {
      "text/plain": [
       "array([[2., 0., 1.],\n",
       "       [0., 0., 0.],\n",
       "       [1., 1., 1.]])"
      ]
     },
     "execution_count": 19,
     "metadata": {},
     "output_type": "execute_result"
    }
   ],
   "source": [
    "np.array([\n",
    "    A[0],\n",
    "    B[1],\n",
    "    C[2]\n",
    "]) # Array built from rows of other arrays"
   ]
  },
  {
   "cell_type": "code",
   "execution_count": null,
   "id": "c3947b2b",
   "metadata": {},
   "outputs": [
    {
     "data": {
      "text/plain": [
       "array([[0., 1., 2.],\n",
       "       [1., 0., 0.],\n",
       "       [2., 0., 1.]])"
      ]
     },
     "execution_count": 20,
     "metadata": {},
     "output_type": "execute_result"
    }
   ],
   "source": [
    "np.array([A[1],I[0],A[0]]) # Array built from rows of other arrays"
   ]
  },
  {
   "cell_type": "code",
   "execution_count": null,
   "id": "c7d0e5a3",
   "metadata": {},
   "outputs": [
    {
     "data": {
      "text/plain": [
       "array([2, 0, 1])"
      ]
     },
     "execution_count": 21,
     "metadata": {},
     "output_type": "execute_result"
    }
   ],
   "source": [
    "A[0] # Row 0"
   ]
  },
  {
   "cell_type": "code",
   "execution_count": null,
   "id": "11cd68c9",
   "metadata": {},
   "outputs": [
    {
     "data": {
      "text/plain": [
       "array([2, 0, 0])"
      ]
     },
     "execution_count": 22,
     "metadata": {},
     "output_type": "execute_result"
    }
   ],
   "source": [
    "A[:,0] # Column 0"
   ]
  },
  {
   "cell_type": "code",
   "execution_count": null,
   "id": "5e592b6b",
   "metadata": {},
   "outputs": [
    {
     "data": {
      "text/plain": [
       "array([[1, 3, 5]])"
      ]
     },
     "execution_count": 23,
     "metadata": {},
     "output_type": "execute_result"
    }
   ],
   "source": [
    "2*A[1:2]+1 # 2*Second row of A plus 1"
   ]
  },
  {
   "cell_type": "code",
   "execution_count": null,
   "id": "bf774af1",
   "metadata": {},
   "outputs": [
    {
     "name": "stdout",
     "output_type": "stream",
     "text": [
      "[[3 1 2]\n",
      " [1 2 3]]\n"
     ]
    },
    {
     "data": {
      "text/plain": [
       "array([[2, 0, 1],\n",
       "       [0, 1, 2],\n",
       "       [0, 0, 3]])"
      ]
     },
     "execution_count": 63,
     "metadata": {},
     "output_type": "execute_result"
    }
   ],
   "source": [
    "print(A[:2]+1) # First two rows of A with 1 added to them, but is actually a new array\n",
    "A"
   ]
  },
  {
   "cell_type": "code",
   "execution_count": null,
   "id": "8b5d5948",
   "metadata": {},
   "outputs": [
    {
     "data": {
      "text/plain": [
       "array([[2, 0, 1],\n",
       "       [0, 1, 2]])"
      ]
     },
     "execution_count": 66,
     "metadata": {},
     "output_type": "execute_result"
    }
   ],
   "source": [
    "A[:2]"
   ]
  },
  {
   "cell_type": "code",
   "execution_count": null,
   "id": "8ee889d9",
   "metadata": {},
   "outputs": [],
   "source": [
    "r,c=np.shape(A[:2])"
   ]
  },
  {
   "cell_type": "code",
   "execution_count": null,
   "id": "70a14b40",
   "metadata": {},
   "outputs": [
    {
     "data": {
      "text/plain": [
       "2"
      ]
     },
     "execution_count": 68,
     "metadata": {},
     "output_type": "execute_result"
    }
   ],
   "source": [
    "r"
   ]
  },
  {
   "cell_type": "code",
   "execution_count": null,
   "id": "5b6d9054",
   "metadata": {},
   "outputs": [
    {
     "data": {
      "text/plain": [
       "array([[0., 0., 0.],\n",
       "       [0., 0., 0.],\n",
       "       [0., 0., 0.]])"
      ]
     },
     "execution_count": 25,
     "metadata": {},
     "output_type": "execute_result"
    }
   ],
   "source": [
    "Bc=B.copy() # Make a copy of B\n",
    "Bc"
   ]
  },
  {
   "cell_type": "code",
   "execution_count": null,
   "id": "8e7fde7e",
   "metadata": {},
   "outputs": [
    {
     "data": {
      "text/plain": [
       "array([[0., 2., 0.],\n",
       "       [0., 0., 0.],\n",
       "       [0., 0., 0.]])"
      ]
     },
     "execution_count": 26,
     "metadata": {},
     "output_type": "execute_result"
    }
   ],
   "source": [
    "Bc[:,1]=A[:,0] # Replace one column with another\n",
    "Bc"
   ]
  },
  {
   "cell_type": "code",
   "execution_count": null,
   "id": "837f1abd",
   "metadata": {},
   "outputs": [
    {
     "data": {
      "text/plain": [
       "array([[2., 0.],\n",
       "       [0., 0.],\n",
       "       [0., 1.]])"
      ]
     },
     "execution_count": 27,
     "metadata": {},
     "output_type": "execute_result"
    }
   ],
   "source": [
    "np.column_stack((A[:,0],I[:,2]))"
   ]
  },
  {
   "cell_type": "code",
   "execution_count": null,
   "id": "9f65b0ab",
   "metadata": {},
   "outputs": [
    {
     "data": {
      "text/plain": [
       "array([[2, 0, 0],\n",
       "       [0, 1, 0],\n",
       "       [1, 2, 3]])"
      ]
     },
     "execution_count": 28,
     "metadata": {},
     "output_type": "execute_result"
    }
   ],
   "source": [
    "np.transpose(A)"
   ]
  },
  {
   "cell_type": "markdown",
   "id": "150a7bae",
   "metadata": {},
   "source": [
    "# Some Basic Matrix Stuff"
   ]
  },
  {
   "cell_type": "code",
   "execution_count": null,
   "id": "e6f024b2",
   "metadata": {},
   "outputs": [],
   "source": [
    "M=1/2*np.array([\n",
    "    [3,2,1],\n",
    "    [0,2,0],\n",
    "    [1,0,7]\n",
    "],dtype=int)"
   ]
  },
  {
   "cell_type": "code",
   "execution_count": null,
   "id": "e8097711",
   "metadata": {},
   "outputs": [
    {
     "data": {
      "text/plain": [
       "6.0"
      ]
     },
     "execution_count": 69,
     "metadata": {},
     "output_type": "execute_result"
    }
   ],
   "source": [
    "LA.det(A) # Determinant of A"
   ]
  },
  {
   "cell_type": "code",
   "execution_count": null,
   "id": "9a1530ad",
   "metadata": {},
   "outputs": [
    {
     "data": {
      "text/plain": [
       "3"
      ]
     },
     "execution_count": 85,
     "metadata": {},
     "output_type": "execute_result"
    }
   ],
   "source": [
    "A.max()"
   ]
  },
  {
   "cell_type": "code",
   "execution_count": null,
   "id": "69143404",
   "metadata": {},
   "outputs": [
    {
     "data": {
      "text/plain": [
       "0"
      ]
     },
     "execution_count": 86,
     "metadata": {},
     "output_type": "execute_result"
    }
   ],
   "source": [
    "A.min()"
   ]
  },
  {
   "cell_type": "code",
   "execution_count": null,
   "id": "be8d37fa",
   "metadata": {},
   "outputs": [
    {
     "data": {
      "text/plain": [
       "9"
      ]
     },
     "execution_count": 87,
     "metadata": {},
     "output_type": "execute_result"
    }
   ],
   "source": [
    "A.sum()"
   ]
  },
  {
   "cell_type": "code",
   "execution_count": null,
   "id": "2ff12d6f",
   "metadata": {},
   "outputs": [],
   "source": [
    "v=np.array([1/3,1/3,1/3]) # A vector v"
   ]
  },
  {
   "cell_type": "code",
   "execution_count": null,
   "id": "f0d025b5",
   "metadata": {},
   "outputs": [
    {
     "data": {
      "text/plain": [
       "array([0.33333333, 0.33333333, 0.33333333])"
      ]
     },
     "execution_count": 100,
     "metadata": {},
     "output_type": "execute_result"
    }
   ],
   "source": [
    "v"
   ]
  },
  {
   "cell_type": "code",
   "execution_count": null,
   "id": "2e137576",
   "metadata": {},
   "outputs": [
    {
     "data": {
      "text/plain": [
       "(3,)"
      ]
     },
     "execution_count": 107,
     "metadata": {},
     "output_type": "execute_result"
    }
   ],
   "source": [
    "np.shape(np.transpose(v))"
   ]
  },
  {
   "cell_type": "code",
   "execution_count": null,
   "id": "7abe496c",
   "metadata": {},
   "outputs": [
    {
     "data": {
      "text/plain": [
       "array([[2.33333333, 0.33333333, 1.33333333],\n",
       "       [0.33333333, 1.33333333, 2.33333333],\n",
       "       [0.33333333, 0.33333333, 3.33333333]])"
      ]
     },
     "execution_count": 88,
     "metadata": {},
     "output_type": "execute_result"
    }
   ],
   "source": [
    "A+v"
   ]
  },
  {
   "cell_type": "code",
   "execution_count": null,
   "id": "c8d5e00e",
   "metadata": {},
   "outputs": [
    {
     "data": {
      "text/plain": [
       "array([1., 1., 1.])"
      ]
     },
     "execution_count": 89,
     "metadata": {},
     "output_type": "execute_result"
    }
   ],
   "source": [
    "np.matmul(A,v)"
   ]
  },
  {
   "cell_type": "code",
   "execution_count": null,
   "id": "b39a3cfa",
   "metadata": {},
   "outputs": [
    {
     "data": {
      "text/plain": [
       "array([[0.66666667, 0.66666667, 0.66666667],\n",
       "       [0.        , 0.        , 0.        ],\n",
       "       [0.33333333, 0.33333333, 0.33333333]])"
      ]
     },
     "execution_count": 91,
     "metadata": {},
     "output_type": "execute_result"
    }
   ],
   "source": [
    "np.outer(A[0],v)"
   ]
  },
  {
   "cell_type": "code",
   "execution_count": null,
   "id": "f180ec7c",
   "metadata": {},
   "outputs": [
    {
     "data": {
      "text/plain": [
       "1.0"
      ]
     },
     "execution_count": 92,
     "metadata": {},
     "output_type": "execute_result"
    }
   ],
   "source": [
    "np.inner(A[0],v)"
   ]
  },
  {
   "cell_type": "code",
   "execution_count": null,
   "id": "0d43203d",
   "metadata": {},
   "outputs": [
    {
     "data": {
      "text/plain": [
       "1.0"
      ]
     },
     "execution_count": 96,
     "metadata": {},
     "output_type": "execute_result"
    }
   ],
   "source": [
    "v.transpose()@A[0]"
   ]
  },
  {
   "cell_type": "code",
   "execution_count": null,
   "id": "83c265e5",
   "metadata": {},
   "outputs": [
    {
     "name": "stdout",
     "output_type": "stream",
     "text": [
      "[0.33333333 0.33333333 0.33333333]\n",
      "[1.         0.33333333 1.33333333]\n",
      "[2.5        0.33333333 5.16666667]\n",
      "[ 6.66666667  0.33333333 19.33333333]\n",
      "[20.          0.33333333 71.        ]\n"
     ]
    }
   ],
   "source": [
    "vi=v\n",
    "for i in range(5): # Iteratively multiplying v by M\n",
    "    print(vi)\n",
    "    vi=M@vi"
   ]
  },
  {
   "cell_type": "code",
   "execution_count": null,
   "id": "7b9b98cb",
   "metadata": {},
   "outputs": [
    {
     "data": {
      "text/plain": [
       "4.358898943540674"
      ]
     },
     "execution_count": 34,
     "metadata": {},
     "output_type": "execute_result"
    }
   ],
   "source": [
    "LA.norm(A) # The norm of M"
   ]
  },
  {
   "cell_type": "code",
   "execution_count": null,
   "id": "4cb586fe",
   "metadata": {},
   "outputs": [
    {
     "data": {
      "text/plain": [
       "6"
      ]
     },
     "execution_count": 35,
     "metadata": {},
     "output_type": "execute_result"
    }
   ],
   "source": [
    "np.trace(A) # The trace of M"
   ]
  },
  {
   "cell_type": "code",
   "execution_count": null,
   "id": "85534bf0",
   "metadata": {},
   "outputs": [],
   "source": [
    "sol_vec=LA.solve(M,v) # Solving an equation of the form ax=b"
   ]
  },
  {
   "cell_type": "code",
   "execution_count": null,
   "id": "27a99c3c",
   "metadata": {},
   "outputs": [
    {
     "data": {
      "text/plain": [
       "array([0.33333333, 0.33333333, 0.33333333])"
      ]
     },
     "execution_count": 37,
     "metadata": {},
     "output_type": "execute_result"
    }
   ],
   "source": [
    "M@sol_vec"
   ]
  },
  {
   "cell_type": "code",
   "execution_count": null,
   "id": "4ca3dfd5",
   "metadata": {},
   "outputs": [
    {
     "data": {
      "text/plain": [
       "array([[ 0.5       ,  0.        , -0.16666667],\n",
       "       [ 0.        ,  1.        , -0.66666667],\n",
       "       [ 0.        ,  0.        ,  0.33333333]])"
      ]
     },
     "execution_count": 38,
     "metadata": {},
     "output_type": "execute_result"
    }
   ],
   "source": [
    "A_inv=LA.inv(A)\n",
    "A_inv"
   ]
  },
  {
   "cell_type": "code",
   "execution_count": null,
   "id": "ee5fb77c",
   "metadata": {
    "scrolled": true
   },
   "outputs": [
    {
     "data": {
      "text/plain": [
       "array([[ 1.00000000e+00, -4.85722573e-17,  0.00000000e+00],\n",
       "       [ 0.00000000e+00,  1.00000000e+00,  0.00000000e+00],\n",
       "       [ 5.55111512e-17, -5.55111512e-17,  1.00000000e+00]])"
      ]
     },
     "execution_count": 39,
     "metadata": {},
     "output_type": "execute_result"
    }
   ],
   "source": [
    "M@LA.inv(M)"
   ]
  },
  {
   "cell_type": "code",
   "execution_count": null,
   "id": "e6c02af2",
   "metadata": {},
   "outputs": [
    {
     "data": {
      "text/plain": [
       "array([[1.00000000e+00, 0.00000000e+00, 5.55111512e-17],\n",
       "       [0.00000000e+00, 1.00000000e+00, 0.00000000e+00],\n",
       "       [0.00000000e+00, 0.00000000e+00, 1.00000000e+00]])"
      ]
     },
     "execution_count": 40,
     "metadata": {},
     "output_type": "execute_result"
    }
   ],
   "source": [
    "LA.inv(M)@M"
   ]
  },
  {
   "cell_type": "markdown",
   "id": "7ee66e43",
   "metadata": {},
   "source": [
    "# Eigen-Stuff and Diagonalization"
   ]
  },
  {
   "cell_type": "code",
   "execution_count": null,
   "id": "8b923747",
   "metadata": {},
   "outputs": [],
   "source": [
    "A=np.array([[2,0,1],[0,1,2],[0,0,3]])"
   ]
  },
  {
   "cell_type": "code",
   "execution_count": null,
   "id": "a0f14e62",
   "metadata": {},
   "outputs": [
    {
     "data": {
      "text/plain": [
       "array([[2, 0, 1],\n",
       "       [0, 1, 2],\n",
       "       [0, 0, 3]])"
      ]
     },
     "execution_count": 42,
     "metadata": {},
     "output_type": "execute_result"
    }
   ],
   "source": [
    "A"
   ]
  },
  {
   "cell_type": "code",
   "execution_count": null,
   "id": "1a6ba1d6",
   "metadata": {},
   "outputs": [],
   "source": [
    "eig_val, eig_vec = LA.eig(A) # Eigenvalues and Eigen Vectors of A"
   ]
  },
  {
   "cell_type": "code",
   "execution_count": null,
   "id": "5af0d4d4",
   "metadata": {},
   "outputs": [
    {
     "data": {
      "text/plain": [
       "array([2., 1., 3.])"
      ]
     },
     "execution_count": 44,
     "metadata": {},
     "output_type": "execute_result"
    }
   ],
   "source": [
    "eig_val # Array of eignevalues"
   ]
  },
  {
   "cell_type": "code",
   "execution_count": null,
   "id": "fa00687a",
   "metadata": {},
   "outputs": [
    {
     "name": "stdout",
     "output_type": "stream",
     "text": [
      "[ True  True  True]\n",
      "[ True  True  True]\n"
     ]
    },
    {
     "data": {
      "text/plain": [
       "array([[1.        , 0.        , 0.57735027],\n",
       "       [0.        , 1.        , 0.57735027],\n",
       "       [0.        , 0.        , 0.57735027]])"
      ]
     },
     "execution_count": 45,
     "metadata": {},
     "output_type": "execute_result"
    }
   ],
   "source": [
    "P=eig_vec # Matrix with eigenvectors as columns\n",
    "print(P[:,1]==A@P[:,1])\n",
    "print(A@P[:,2]==3*P[:,2])\n",
    "P"
   ]
  },
  {
   "cell_type": "code",
   "execution_count": null,
   "id": "1cc92cad",
   "metadata": {},
   "outputs": [
    {
     "data": {
      "text/plain": [
       "array([[2.        , 0.        , 1.73205081],\n",
       "       [0.        , 1.        , 1.73205081],\n",
       "       [0.        , 0.        , 1.73205081]])"
      ]
     },
     "execution_count": 46,
     "metadata": {},
     "output_type": "execute_result"
    }
   ],
   "source": [
    "A@P"
   ]
  },
  {
   "cell_type": "code",
   "execution_count": null,
   "id": "30ef5b89",
   "metadata": {},
   "outputs": [
    {
     "data": {
      "text/plain": [
       "array([[2., 0., 0.],\n",
       "       [0., 1., 0.],\n",
       "       [0., 0., 3.]])"
      ]
     },
     "execution_count": 47,
     "metadata": {},
     "output_type": "execute_result"
    }
   ],
   "source": [
    "D=np.diag(eig_val) # Diagonal matrix with eig_val\n",
    "D"
   ]
  },
  {
   "cell_type": "code",
   "execution_count": null,
   "id": "ac7f5db1",
   "metadata": {},
   "outputs": [
    {
     "data": {
      "text/plain": [
       "array([[ 1.        ,  0.        , -1.        ],\n",
       "       [ 0.        ,  1.        , -1.        ],\n",
       "       [ 0.        ,  0.        ,  1.73205081]])"
      ]
     },
     "execution_count": 50,
     "metadata": {},
     "output_type": "execute_result"
    }
   ],
   "source": [
    "P_inv=LA.inv(P) # The inverse of a matrix\n",
    "P_inv"
   ]
  },
  {
   "cell_type": "code",
   "execution_count": null,
   "id": "8718279c",
   "metadata": {},
   "outputs": [
    {
     "data": {
      "text/plain": [
       "array([[ True,  True,  True],\n",
       "       [ True,  True,  True],\n",
       "       [ True,  True,  True]])"
      ]
     },
     "execution_count": 90,
     "metadata": {},
     "output_type": "execute_result"
    }
   ],
   "source": [
    "np.matmul(np.matmul(P,D),P_inv)==A"
   ]
  },
  {
   "cell_type": "code",
   "execution_count": null,
   "id": "37709939",
   "metadata": {},
   "outputs": [
    {
     "data": {
      "text/plain": [
       "array([[ True,  True,  True],\n",
       "       [ True,  True,  True],\n",
       "       [ True,  True,  True]])"
      ]
     },
     "execution_count": 52,
     "metadata": {},
     "output_type": "execute_result"
    }
   ],
   "source": [
    "D_Temp=P_inv@(A@P)\n",
    "D_Temp==D"
   ]
  },
  {
   "cell_type": "markdown",
   "id": "8f0a2956",
   "metadata": {},
   "source": [
    "# With Some Sympy"
   ]
  },
  {
   "cell_type": "code",
   "execution_count": null,
   "id": "a5b3d0d1",
   "metadata": {},
   "outputs": [
    {
     "data": {
      "text/latex": [
       "$\\displaystyle \\left[\\begin{matrix}2 & 0 & 1\\\\0 & 1 & 2\\\\0 & 0 & 3\\end{matrix}\\right]$"
      ],
      "text/plain": [
       "Matrix([\n",
       "[2, 0, 1],\n",
       "[0, 1, 2],\n",
       "[0, 0, 3]])"
      ]
     },
     "execution_count": 117,
     "metadata": {},
     "output_type": "execute_result"
    }
   ],
   "source": [
    "spA=sp.Matrix(A)\n",
    "spA"
   ]
  },
  {
   "cell_type": "code",
   "execution_count": null,
   "id": "311cad29",
   "metadata": {},
   "outputs": [
    {
     "data": {
      "text/latex": [
       "$\\displaystyle 6$"
      ],
      "text/plain": [
       "6"
      ]
     },
     "execution_count": 118,
     "metadata": {},
     "output_type": "execute_result"
    }
   ],
   "source": [
    "spA.det()"
   ]
  },
  {
   "cell_type": "code",
   "execution_count": null,
   "id": "13ef7c21",
   "metadata": {},
   "outputs": [
    {
     "data": {
      "text/plain": [
       "6.0"
      ]
     },
     "execution_count": 119,
     "metadata": {},
     "output_type": "execute_result"
    }
   ],
   "source": [
    "LA.det(A)"
   ]
  },
  {
   "cell_type": "code",
   "execution_count": null,
   "id": "81941627",
   "metadata": {},
   "outputs": [
    {
     "data": {
      "text/plain": [
       "(Matrix([\n",
       " [1, 0, 0],\n",
       " [0, 1, 0],\n",
       " [0, 0, 1]]),\n",
       " (0, 1, 2))"
      ]
     },
     "execution_count": 120,
     "metadata": {},
     "output_type": "execute_result"
    }
   ],
   "source": [
    "spA.rref()"
   ]
  },
  {
   "cell_type": "code",
   "execution_count": null,
   "id": "e06598b2",
   "metadata": {},
   "outputs": [
    {
     "data": {
      "text/latex": [
       "$\\displaystyle \\left[\\begin{matrix}1 & 0 & 0 & 0\\\\0 & 1 & 0 & 0\\\\0 & 0 & 1 & 1\\end{matrix}\\right]$"
      ],
      "text/plain": [
       "Matrix([\n",
       "[1, 0, 0, 0],\n",
       "[0, 1, 0, 0],\n",
       "[0, 0, 1, 1]])"
      ]
     },
     "execution_count": 121,
     "metadata": {},
     "output_type": "execute_result"
    }
   ],
   "source": [
    "sp.Matrix(np.column_stack((A,A[:,2]))).rref()[0]"
   ]
  },
  {
   "cell_type": "code",
   "execution_count": null,
   "id": "9ea9e1d4",
   "metadata": {},
   "outputs": [
    {
     "data": {
      "text/plain": [
       "array([[4, 0, 5],\n",
       "       [0, 1, 8],\n",
       "       [0, 0, 9]], dtype=object)"
      ]
     },
     "execution_count": 123,
     "metadata": {},
     "output_type": "execute_result"
    }
   ],
   "source": [
    "np.matmul(A,spA)"
   ]
  },
  {
   "cell_type": "code",
   "execution_count": null,
   "id": "9429557b",
   "metadata": {},
   "outputs": [
    {
     "data": {
      "text/plain": [
       "numpy.ndarray"
      ]
     },
     "execution_count": 124,
     "metadata": {},
     "output_type": "execute_result"
    }
   ],
   "source": [
    "type(A)"
   ]
  },
  {
   "cell_type": "code",
   "execution_count": null,
   "id": "a477cc82",
   "metadata": {},
   "outputs": [
    {
     "data": {
      "text/plain": [
       "sympy.matrices.dense.MutableDenseMatrix"
      ]
     },
     "execution_count": 125,
     "metadata": {},
     "output_type": "execute_result"
    }
   ],
   "source": [
    "type(spA)"
   ]
  },
  {
   "cell_type": "code",
   "execution_count": null,
   "id": "c33a20e5",
   "metadata": {},
   "outputs": [
    {
     "data": {
      "text/plain": [
       "sympy.matrices.dense.MutableDenseMatrix"
      ]
     },
     "execution_count": 126,
     "metadata": {},
     "output_type": "execute_result"
    }
   ],
   "source": [
    "type(A@spA)"
   ]
  },
  {
   "cell_type": "code",
   "execution_count": null,
   "id": "7b9ede64",
   "metadata": {},
   "outputs": [
    {
     "data": {
      "text/plain": [
       "numpy.ndarray"
      ]
     },
     "execution_count": 127,
     "metadata": {},
     "output_type": "execute_result"
    }
   ],
   "source": [
    "type(np.matmul(A,spA))"
   ]
  },
  {
   "cell_type": "code",
   "execution_count": null,
   "id": "8c5ca26e",
   "metadata": {},
   "outputs": [
    {
     "data": {
      "text/plain": [
       "array([[ True,  True,  True],\n",
       "       [ True,  True,  True],\n",
       "       [ True,  True,  True]])"
      ]
     },
     "execution_count": 129,
     "metadata": {},
     "output_type": "execute_result"
    }
   ],
   "source": [
    "np.array(spA.tolist())==A"
   ]
  },
  {
   "cell_type": "code",
   "execution_count": null,
   "id": "0e85ff37",
   "metadata": {},
   "outputs": [
    {
     "data": {
      "text/plain": [
       "array([[2],\n",
       "       [0],\n",
       "       [0]], dtype=object)"
      ]
     },
     "execution_count": 135,
     "metadata": {},
     "output_type": "execute_result"
    }
   ],
   "source": [
    "np.array(spA[:,0].tolist())"
   ]
  },
  {
   "cell_type": "code",
   "execution_count": null,
   "id": "3006d01e",
   "metadata": {},
   "outputs": [
    {
     "data": {
      "text/plain": [
       "array([2, 0, 0])"
      ]
     },
     "execution_count": 136,
     "metadata": {},
     "output_type": "execute_result"
    }
   ],
   "source": [
    "A[:,0]"
   ]
  },
  {
   "cell_type": "code",
   "execution_count": null,
   "id": "c257660a",
   "metadata": {},
   "outputs": [
    {
     "data": {
      "text/latex": [
       "$\\displaystyle 3 t^{2} + x \\left(t + 2 x\\right) + y \\left(2 t + y\\right)$"
      ],
      "text/plain": [
       "3*t**2 + x*(t + 2*x) + y*(2*t + y)"
      ]
     },
     "execution_count": 143,
     "metadata": {},
     "output_type": "execute_result"
    }
   ],
   "source": [
    "[x,y,t]@np.matmul(A,[x,y,t])"
   ]
  },
  {
   "cell_type": "code",
   "execution_count": null,
   "id": "b43d1e2d",
   "metadata": {},
   "outputs": [],
   "source": []
  }
 ],
 "metadata": {
  "kernelspec": {
   "display_name": "Python 3 (ipykernel)",
   "language": "python",
   "name": "python3"
  },
  "language_info": {
   "codemirror_mode": {
    "name": "ipython",
    "version": 3
   },
   "file_extension": ".py",
   "mimetype": "text/x-python",
   "name": "python",
   "nbconvert_exporter": "python",
   "pygments_lexer": "ipython3",
   "version": "3.10.13"
  }
 },
 "nbformat": 4,
 "nbformat_minor": 5
}
